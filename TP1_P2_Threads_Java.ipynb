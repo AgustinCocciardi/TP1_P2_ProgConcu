{
  "nbformat": 4,
  "nbformat_minor": 0,
  "metadata": {
    "colab": {
      "provenance": [],
      "authorship_tag": "ABX9TyMERZCJr91E8lmEBeKzU0it",
      "include_colab_link": true
    },
    "kernelspec": {
      "name": "python3",
      "display_name": "Python 3"
    },
    "language_info": {
      "name": "python"
    }
  },
  "cells": [
    {
      "cell_type": "markdown",
      "metadata": {
        "id": "view-in-github",
        "colab_type": "text"
      },
      "source": [
        "<a href=\"https://colab.research.google.com/github/AgustinCocciardi/TP1_P2_ProgConcu/blob/main/TP1_P2_Threads_Java.ipynb\" target=\"_parent\"><img src=\"https://colab.research.google.com/assets/colab-badge.svg\" alt=\"Open In Colab\"/></a>"
      ]
    },
    {
      "cell_type": "markdown",
      "source": [
        "Utilizo el comando writefile para crear un archivo llamado Main.java. Necesitaré ese archivo para crear un ejecutable."
      ],
      "metadata": {
        "id": "_0P7U1Wc7JpG"
      }
    },
    {
      "cell_type": "code",
      "source": [
        "%%writefile Main.java\n",
        "import java.util.Random;\n",
        "import java.util.ArrayList;\n",
        "\n",
        "public class Main\n",
        "{\n",
        "\n",
        "  final static int NUMERO_PARAMETROS = 1;\n",
        "  final static int RANGO_MINIMO = 5;\n",
        "  final static int RANGO_MAXIMO = 20;\n",
        "  final static int INICIALIZADOR = 0;\n",
        "\n",
        "  static class Matriz \n",
        "  {\n",
        "    private int[][] matrizA;\n",
        "    private int[][] matrizB;\n",
        "    private int[][] matrizCS;\n",
        "    private int[][] matrizCH;\n",
        "    private int tamanioMatriz;\n",
        "    final int INICIO_ITERADOR = 0;\n",
        "    final int VALOR_ALEATORIO_MAXIMO = 65;\n",
        "    final int VALOR_ALEATORIO_NEGATIVO = 32;\n",
        "\n",
        "    public Matriz(int tamanio) \n",
        "    {\n",
        "      this.tamanioMatriz = tamanio;\n",
        "      this.matrizA = new int[tamanio][tamanio];\n",
        "      this.matrizB = new int[tamanio][tamanio];\n",
        "      this.matrizCS = new int[tamanio][tamanio];\n",
        "      this.matrizCH = new int[tamanio][tamanio];\n",
        "    }\n",
        "    \n",
        "    public void mostrarMatrices() \n",
        "    {\n",
        "      System.out.println(\"Matriz A:\");\n",
        "      mostrarMatriz(matrizA);\n",
        "      System.out.println(\"Matriz B:\");\n",
        "      mostrarMatriz(matrizB);\n",
        "      System.out.println(\"Matriz CS:\");\n",
        "      mostrarMatriz(matrizCS);\n",
        "      System.out.println(\"Matriz CH:\");\n",
        "      mostrarMatriz(matrizCH);\n",
        "    }\n",
        "\n",
        "    public void completarMatricesAleatorias() \n",
        "    {\n",
        "      Random random = new Random();\n",
        "      for (int i = INICIO_ITERADOR; i < tamanioMatriz; i++) \n",
        "      {\n",
        "        for (int j = INICIO_ITERADOR; j < tamanioMatriz; j++) \n",
        "        {\n",
        "          matrizA[i][j] = random.nextInt(VALOR_ALEATORIO_MAXIMO) - VALOR_ALEATORIO_NEGATIVO; \n",
        "          matrizB[i][j] = random.nextInt(VALOR_ALEATORIO_MAXIMO) - VALOR_ALEATORIO_NEGATIVO; \n",
        "        }\n",
        "      }\n",
        "    }\n",
        "    \n",
        "    public void multiplicarMatricesSecuencial() \n",
        "    {\n",
        "      for (int i = INICIO_ITERADOR; i < tamanioMatriz; i++) \n",
        "      {\n",
        "        for (int j = INICIO_ITERADOR; j < tamanioMatriz; j++) \n",
        "        {\n",
        "          int suma = INICIALIZADOR;\n",
        "          for (int k = INICIO_ITERADOR; k < tamanioMatriz; k++) \n",
        "          {\n",
        "            suma += matrizA[i][k] * matrizB[k][j];\n",
        "          }\n",
        "          matrizCS[i][j] = suma;\n",
        "        }\n",
        "      }\n",
        "    }\n",
        "\n",
        "    public void multiplicarMatricesConHilos(int cantidadHilos) \n",
        "    {\n",
        "      ArrayList<Thread> hilos = new ArrayList<>();\n",
        "      for (int i = INICIO_ITERADOR; i < cantidadHilos; i++) \n",
        "      {\n",
        "        final int hilo = i;\n",
        "        hilos.add(new Thread(new Runnable() \n",
        "        {\n",
        "          @Override\n",
        "          public void run() \n",
        "          {\n",
        "            funcionEjecutadaPorHilo(hilo);\n",
        "          }\n",
        "        }));\n",
        "      }\n",
        "      for (Thread hilo : hilos) \n",
        "      {\n",
        "        hilo.start();\n",
        "      }\n",
        "      for (Thread hilo : hilos) \n",
        "      {\n",
        "        try \n",
        "        {\n",
        "          hilo.join();\n",
        "        } \n",
        "        catch (InterruptedException e) \n",
        "        {\n",
        "          e.printStackTrace();\n",
        "        }\n",
        "      }\n",
        "    }\n",
        "\n",
        "    void funcionEjecutadaPorHilo(int numeroHilo) \n",
        "    {\n",
        "      for (int j = INICIO_ITERADOR; j < this.tamanioMatriz; j++) \n",
        "      {\n",
        "        for (int k = INICIO_ITERADOR; k < this.tamanioMatriz; k++) \n",
        "        {\n",
        "          this.matrizCH[numeroHilo][j] += this.matrizA[numeroHilo][k] * this.matrizB[k][j];\n",
        "        }\n",
        "      }\n",
        "    }\n",
        "\n",
        "    private void mostrarMatriz(int[][] matriz) \n",
        "    {\n",
        "      for (int i = INICIO_ITERADOR; i < tamanioMatriz; i++) \n",
        "      {\n",
        "        for (int j = INICIO_ITERADOR; j < tamanioMatriz; j++) \n",
        "        {\n",
        "          System.out.printf(\"%6d\", matriz[i][j]);\n",
        "        }\n",
        "        System.out.println();\n",
        "      }\n",
        "      System.out.println();\n",
        "    }\n",
        "\n",
        "    void compararMatricesResultado()\n",
        "    {\n",
        "      boolean sonIguales = true;\n",
        "      for (int i = INICIO_ITERADOR; i < tamanioMatriz; i++) \n",
        "      {\n",
        "        for (int j = INICIO_ITERADOR; j < tamanioMatriz; j++) \n",
        "        {\n",
        "          if (matrizCS[i][j] != matrizCH[i][j])\n",
        "          {\n",
        "            sonIguales = false;\n",
        "            break;\n",
        "          }\n",
        "        }\n",
        "      }\n",
        "      if (sonIguales) \n",
        "        System.out.println(\"El producto matricial coincide\");\n",
        "      else\n",
        "        System.out.println(\"El producto matricial no coincide\");\n",
        "    }\n",
        "  }\n",
        "\n",
        "  public static Matriz matrices;\n",
        "  public static void main(String[] args) \n",
        "  {\n",
        "    if (args.length != NUMERO_PARAMETROS) \n",
        "    {\n",
        "      System.out.println(\"No ingreso la cantidad correcta de parametros. Solamente debe ingresar un entero positivo entre 5 y 20\");\n",
        "      return;\n",
        "    }\n",
        "    int tamanioMatrices = INICIALIZADOR;\n",
        "    try \n",
        "    {\n",
        "      tamanioMatrices = Integer.parseInt(args[0]);\n",
        "    } \n",
        "    catch (NumberFormatException e) \n",
        "    {\n",
        "      System.out.println(\"El parametro que usted ingreso no es un entero positivo entre 5 y 20\");\n",
        "      return;\n",
        "    }\n",
        "\n",
        "    if (tamanioMatrices < RANGO_MINIMO || tamanioMatrices > RANGO_MAXIMO) \n",
        "    {\n",
        "      System.out.println(\"El rango de N debe estar entre 5 y 20\");\n",
        "      return;\n",
        "    }\n",
        "    int cantidadHilos = tamanioMatrices;\n",
        "    matrices = new Matriz(tamanioMatrices);\n",
        "    matrices.completarMatricesAleatorias();\n",
        "    matrices.multiplicarMatricesSecuencial();\n",
        "    matrices.multiplicarMatricesConHilos(cantidadHilos);\n",
        "    matrices.mostrarMatrices();\n",
        "    matrices.compararMatricesResultado();\n",
        "    return;\n",
        "  }\n",
        "}"
      ],
      "metadata": {
        "colab": {
          "base_uri": "https://localhost:8080/"
        },
        "id": "Rkswh3Qf7PUi",
        "outputId": "ae99ac1e-5a8c-486d-b8b5-178cb95e61b1"
      },
      "execution_count": 1,
      "outputs": [
        {
          "output_type": "stream",
          "name": "stdout",
          "text": [
            "Writing Main.java\n"
          ]
        }
      ]
    },
    {
      "cell_type": "markdown",
      "source": [
        "Listo los archivos para asegurarme que existe el nuevo archivo que cree (Main.java)."
      ],
      "metadata": {
        "id": "MmF8N9to7VPl"
      }
    },
    {
      "cell_type": "code",
      "source": [
        "!ls -la"
      ],
      "metadata": {
        "colab": {
          "base_uri": "https://localhost:8080/"
        },
        "id": "Lt2BvCB77ZPJ",
        "outputId": "a8f2652d-fd71-432f-ec7b-0203fe0649f0"
      },
      "execution_count": 2,
      "outputs": [
        {
          "output_type": "stream",
          "name": "stdout",
          "text": [
            "total 24\n",
            "drwxr-xr-x 1 root root 4096 Apr 18 21:14 .\n",
            "drwxr-xr-x 1 root root 4096 Apr 18 21:13 ..\n",
            "drwxr-xr-x 4 root root 4096 Apr 14 13:34 .config\n",
            "-rw-r--r-- 1 root root 4935 Apr 18 21:14 Main.java\n",
            "drwxr-xr-x 1 root root 4096 Apr 14 13:35 sample_data\n"
          ]
        }
      ]
    },
    {
      "cell_type": "markdown",
      "source": [
        "Compilo el archivo Main.java para obtener un ejecutable. "
      ],
      "metadata": {
        "id": "AorS85wu7hVH"
      }
    },
    {
      "cell_type": "code",
      "source": [
        "!javac Main.java"
      ],
      "metadata": {
        "id": "8Fmg3SdH7kno"
      },
      "execution_count": 3,
      "outputs": []
    },
    {
      "cell_type": "markdown",
      "source": [
        "Listo los archivos de nuevo para asegurarme que poseo el ejecutable. Debería salir como Main.class."
      ],
      "metadata": {
        "id": "mE99TAhh8anm"
      }
    },
    {
      "cell_type": "code",
      "source": [
        "!ls -la"
      ],
      "metadata": {
        "colab": {
          "base_uri": "https://localhost:8080/"
        },
        "id": "EthjUKQ08ed_",
        "outputId": "811eb184-0f14-4596-ae4e-bb1a548d6d69"
      },
      "execution_count": 19,
      "outputs": [
        {
          "output_type": "stream",
          "name": "stdout",
          "text": [
            "total 60\n",
            "drwxr-xr-x 1 root root 4096 Apr 18 21:19  .\n",
            "drwxr-xr-x 1 root root 4096 Apr 18 21:13  ..\n",
            "drwxr-xr-x 4 root root 4096 Apr 14 13:34  .config\n",
            "-rw-r--r-- 1 root root  583 Apr 18 21:15 'Main$Matriz$1.class'\n",
            "-rw-r--r-- 1 root root 3093 Apr 18 21:15 'Main$Matriz.class'\n",
            "-rw-r--r-- 1 root root 1496 Apr 18 21:15  Main.class\n",
            "-rw-r--r-- 1 root root 4935 Apr 18 21:14  Main.java\n",
            "-rw-r--r-- 1 root root  103 Apr 18 21:18  salidaExcesoParametros\n",
            "-rw-r--r-- 1 root root  697 Apr 18 21:18  salidaJava\n",
            "-rw-r--r-- 1 root root   69 Apr 18 21:19  salidaNumeroNoEntero\n",
            "-rw-r--r-- 1 root root   38 Apr 18 21:19  salidaRangoInferiorExcedido\n",
            "-rw-r--r-- 1 root root   38 Apr 18 21:19  salidaRangoSuperiorExcedido\n",
            "-rw-r--r-- 1 root root  103 Apr 18 21:19  salidaSinParametros\n",
            "drwxr-xr-x 1 root root 4096 Apr 14 13:35  sample_data\n"
          ]
        }
      ]
    },
    {
      "cell_type": "markdown",
      "source": [
        "Utilizo el comando nohup para ejecutar el proceso en segundo plano, de manera que no me ocupe la consola. Es necesario añadir el caracter '&' al final.\n",
        "\n",
        "Para ejecutar el proceso, tengo que poner java Main N donde N es un número comprendido en el rango de 5 a 20. \n",
        "\n",
        "El comando 1>salidaJava va a redirigir la salida estandar de la pantalla (stdout) a un archivo llamado salidaC. \n",
        "\n",
        "El comando 2>/dev/null envía la salida de error estandar (stderr) a dev/null"
      ],
      "metadata": {
        "id": "PKcBxmMm8jVl"
      }
    },
    {
      "cell_type": "code",
      "source": [
        "!nohup java Main 5 1>salidaJava 2>/dev/null & "
      ],
      "metadata": {
        "id": "iRV1djaw8kzK"
      },
      "execution_count": 7,
      "outputs": []
    },
    {
      "cell_type": "markdown",
      "source": [
        "Reviso el archivo de salida. Debo mostrar la matriz A, la matriz B, la matriz CS (resultado de realizar el producto matricial de forma secuencial), la matriz CH (resultado de realizar el producto matricial utilizando hilos), y por último una línea de texto que me indique si las matrices resultantes son iguales o diferentes. "
      ],
      "metadata": {
        "id": "acr5ixsk8syd"
      }
    },
    {
      "cell_type": "code",
      "source": [
        "!cat salidaJava"
      ],
      "metadata": {
        "colab": {
          "base_uri": "https://localhost:8080/"
        },
        "id": "uIfO1uRb8uyk",
        "outputId": "14c34a67-d15d-4cfb-cdc4-ada29e3594f1"
      },
      "execution_count": 8,
      "outputs": [
        {
          "output_type": "stream",
          "name": "stdout",
          "text": [
            "Matriz A:\n",
            "   -20    -7     4   -19   -20\n",
            "    31   -24    19     5    14\n",
            "    24    -3    23    22    -1\n",
            "     4    15    30     6     5\n",
            "    12    28    -7    15   -24\n",
            "\n",
            "Matriz B:\n",
            "    19    31    -4     7    19\n",
            "    30    15    12    31    31\n",
            "    -8    27    -8     3    -2\n",
            "    31   -15    31    29    -7\n",
            "   -31    32    15    -7   -24\n",
            "\n",
            "Matriz CS:\n",
            "  -591  -972  -925  -756     8\n",
            "  -562  1487  -199  -423  -564\n",
            "   895   958   351   789   187\n",
            "   317  1229   185   722   319\n",
            "  2333  -390   449  1534  1581\n",
            "\n",
            "Matriz CH:\n",
            "  -591  -972  -925  -756     8\n",
            "  -562  1487  -199  -423  -564\n",
            "   895   958   351   789   187\n",
            "   317  1229   185   722   319\n",
            "  2333  -390   449  1534  1581\n",
            "\n",
            "El producto matricial coincide\n"
          ]
        }
      ]
    },
    {
      "cell_type": "markdown",
      "source": [
        "Vuelvo a ejecutar el proceso. Esta vez pasándole 2 parámetros. Redirigiré la salida al archivo salidaExcesoParametros."
      ],
      "metadata": {
        "id": "WAZgGkfv_nVD"
      }
    },
    {
      "cell_type": "code",
      "source": [
        "!nohup java Main 5 2 1>salidaExcesoParametros 2>/dev/null & "
      ],
      "metadata": {
        "id": "l1xuEdWr_kgH"
      },
      "execution_count": 9,
      "outputs": []
    },
    {
      "cell_type": "markdown",
      "source": [
        "Muestro el archivo salidaExcesoParametros. Debe informarme que solo debo ingresar un el valor de N como parámetro. "
      ],
      "metadata": {
        "id": "nFQJe4Eb_znp"
      }
    },
    {
      "cell_type": "code",
      "source": [
        "!cat salidaExcesoParametros"
      ],
      "metadata": {
        "colab": {
          "base_uri": "https://localhost:8080/"
        },
        "id": "xJ3x6HJe_2Bd",
        "outputId": "deabc30d-5cd6-4c94-8166-56cce1536b36"
      },
      "execution_count": 10,
      "outputs": [
        {
          "output_type": "stream",
          "name": "stdout",
          "text": [
            "No ingreso la cantidad correcta de parametros. Solamente debe ingresar un entero positivo entre 5 y 20\n"
          ]
        }
      ]
    },
    {
      "cell_type": "markdown",
      "source": [
        "Vuelvo a ejecutar el proceso. Esta vez pasándole 0 parámetros. Redirigiré la salida al archivo salidaSinParametros."
      ],
      "metadata": {
        "id": "Aq5XWCia_8Mz"
      }
    },
    {
      "cell_type": "code",
      "source": [
        "!nohup java Main 1>salidaSinParametros 2>/dev/null & "
      ],
      "metadata": {
        "id": "AOC49pbCACEM"
      },
      "execution_count": 11,
      "outputs": []
    },
    {
      "cell_type": "markdown",
      "source": [
        "Muestro el archivo salidaSinParametros. Debe informarme que solo debo ingresar un el valor de N como parámetro. "
      ],
      "metadata": {
        "id": "b_xrZDtXAGFt"
      }
    },
    {
      "cell_type": "code",
      "source": [
        "!cat salidaSinParametros"
      ],
      "metadata": {
        "colab": {
          "base_uri": "https://localhost:8080/"
        },
        "id": "RaMjMM_VAQWh",
        "outputId": "ab53b710-f4c8-48bd-ab2c-195c62ebb315"
      },
      "execution_count": 12,
      "outputs": [
        {
          "output_type": "stream",
          "name": "stdout",
          "text": [
            "No ingreso la cantidad correcta de parametros. Solamente debe ingresar un entero positivo entre 5 y 20\n"
          ]
        }
      ]
    },
    {
      "cell_type": "markdown",
      "source": [
        "Vuelvo a ejecutar el proceso. Esta vez pasándole un valor mayor a 20. Redirigiré la salida al archivo salidaRangoSuperiorExcedido."
      ],
      "metadata": {
        "id": "Iw0O7qvGAUsM"
      }
    },
    {
      "cell_type": "code",
      "source": [
        "!nohup java Main 25 1>salidaRangoSuperiorExcedido 2>/dev/null & "
      ],
      "metadata": {
        "id": "OkRlvzs2AZpY"
      },
      "execution_count": 13,
      "outputs": []
    },
    {
      "cell_type": "markdown",
      "source": [
        "Muestro el archivo salidaRangoSuperiorExcedido. Debe informarme que debo ingresar un número entre 5 y 20 como parámetro. "
      ],
      "metadata": {
        "id": "ROQwLDa-Aeb5"
      }
    },
    {
      "cell_type": "code",
      "source": [
        "!cat salidaRangoSuperiorExcedido"
      ],
      "metadata": {
        "colab": {
          "base_uri": "https://localhost:8080/"
        },
        "id": "umsnX7AyAe2R",
        "outputId": "7992152a-f82a-4caa-de65-f013ca3d5e32"
      },
      "execution_count": 14,
      "outputs": [
        {
          "output_type": "stream",
          "name": "stdout",
          "text": [
            "El rango de N debe estar entre 5 y 20\n"
          ]
        }
      ]
    },
    {
      "cell_type": "markdown",
      "source": [
        "Vuelvo a ejecutar el proceso. Esta vez pasándole un valor menor a 5. Redirigiré la salida al archivo salidaRangoInferiorExcedido."
      ],
      "metadata": {
        "id": "niN7s0rjA8ZF"
      }
    },
    {
      "cell_type": "code",
      "source": [
        "!nohup java Main 3 1>salidaRangoInferiorExcedido 2>/dev/null & "
      ],
      "metadata": {
        "id": "eFpGpi5kBEC6"
      },
      "execution_count": 15,
      "outputs": []
    },
    {
      "cell_type": "markdown",
      "source": [
        "Muestro el archivo salidaRangoInferiorExcedido. Debe informarme que debo ingresar un número entre 5 y 20 como parámetro. "
      ],
      "metadata": {
        "id": "0ED-goC0CTnf"
      }
    },
    {
      "cell_type": "code",
      "source": [
        "!cat salidaRangoInferiorExcedido"
      ],
      "metadata": {
        "colab": {
          "base_uri": "https://localhost:8080/"
        },
        "id": "88JH4Nf8BPVc",
        "outputId": "5c1ff121-fdf7-4b98-cde2-120b98da00cd"
      },
      "execution_count": 16,
      "outputs": [
        {
          "output_type": "stream",
          "name": "stdout",
          "text": [
            "El rango de N debe estar entre 5 y 20\n"
          ]
        }
      ]
    },
    {
      "cell_type": "markdown",
      "source": [
        "Vuelvo a ejecutar el proceso. Esta vez pasandole un numero no entero. Redirigiré la salida al archivo salidaNumeroNoEntero."
      ],
      "metadata": {
        "id": "uHmwqEVuusu_"
      }
    },
    {
      "cell_type": "code",
      "source": [
        "!nohup java Main 3.1 1>salidaNumeroNoEntero 2>/dev/null & "
      ],
      "metadata": {
        "id": "uZmVoejuu0iF"
      },
      "execution_count": 17,
      "outputs": []
    },
    {
      "cell_type": "markdown",
      "source": [
        "Muestro el archivo salidaNumeroNoEntero. Debe informarme que no ingresé un número entero positivo. "
      ],
      "metadata": {
        "id": "XQ__4Nhju5Kn"
      }
    },
    {
      "cell_type": "code",
      "source": [
        "!cat salidaNumeroNoEntero"
      ],
      "metadata": {
        "colab": {
          "base_uri": "https://localhost:8080/"
        },
        "id": "rSJZrISWvAql",
        "outputId": "2330694c-207f-4c6a-e8dc-39961aa5d135"
      },
      "execution_count": 18,
      "outputs": [
        {
          "output_type": "stream",
          "name": "stdout",
          "text": [
            "El parametro que usted ingreso no es un entero positivo entre 5 y 20\n"
          ]
        }
      ]
    }
  ]
}