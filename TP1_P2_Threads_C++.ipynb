{
  "nbformat": 4,
  "nbformat_minor": 0,
  "metadata": {
    "colab": {
      "provenance": [],
      "authorship_tag": "ABX9TyPy4UobtsyXELfKMABVH9Bi",
      "include_colab_link": true
    },
    "kernelspec": {
      "name": "python3",
      "display_name": "Python 3"
    },
    "language_info": {
      "name": "python"
    }
  },
  "cells": [
    {
      "cell_type": "markdown",
      "metadata": {
        "id": "view-in-github",
        "colab_type": "text"
      },
      "source": [
        "<a href=\"https://colab.research.google.com/github/AgustinCocciardi/TP1_P2_ProgConcu/blob/main/TP1_P2_Threads_C%2B%2B.ipynb\" target=\"_parent\"><img src=\"https://colab.research.google.com/assets/colab-badge.svg\" alt=\"Open In Colab\"/></a>"
      ]
    },
    {
      "cell_type": "markdown",
      "source": [
        "Utilizo el comando writefile para crear un archivo llamado tp2.cpp. Necesitaré ese archivo para crear un ejecutable."
      ],
      "metadata": {
        "id": "_0P7U1Wc7JpG"
      }
    },
    {
      "cell_type": "code",
      "source": [
        "%%writefile tp2.cpp\n",
        "#include <iostream>\n",
        "#include <string>\n",
        "#include <thread>\n",
        "#include <cstdlib>\n",
        "#include <ctime>\n",
        "#include <iomanip>\n",
        "#include <vector>\n",
        "\n",
        "#define PARAMETROS_INCORRECTOS 0\n",
        "#define N_FUERA_DE_RANGO PARAMETROS_INCORRECTOS\n",
        "#define ESPACIO_CARACTERES 6\n",
        "#define INICIO_ITERADOR 0\n",
        "#define PARAMETROS_CORRECTOS 2\n",
        "#define RANGO_MINIMO 5\n",
        "#define RANGO_MAXIMO 20\n",
        "#define VALOR_ALEATORIO_MAXIMO 65\n",
        "#define VALOR_ALEATORIO_NEGATIVO 32\n",
        "#define EXITO 1\n",
        "\n",
        "struct MatricesHilos\n",
        "{\n",
        "  int** matrizA;\n",
        "  int** matrizB;\n",
        "  int** matrizCS;\n",
        "  int** matrizCH;\n",
        "  int tamanioMatriz;\n",
        "  int cantidadHilos;\n",
        "};\n",
        "\n",
        "bool cantidadCorrectaDeParametros(int parametrosRecibidos, int parametrosEsperados);\n",
        "bool rangoValidoN(int valor, int valorMinimo, int valorMaximo);\n",
        "int** crearMatriz(int tamanioMatriz);\n",
        "void mostrarMatriz(int **matriz,int tamanioMatriz,const char* nombre);\n",
        "MatricesHilos llenarEstructura(int tamanio);\n",
        "void llenarMatricesAleatorio();\n",
        "void multiplicarMatricesSecuencial();\n",
        "void multiplicarMatricesConHilos(int cantidadHilos);\n",
        "void mostrarMatrices();\n",
        "void funcionEjecutadaPorHilo(int numeroHilo);\n",
        "void compararMatricesResultado();\n",
        "\n",
        "MatricesHilos matrizHilos;\n",
        "\n",
        "int main(int argc, char* argv[])\n",
        "{\n",
        "  if(!cantidadCorrectaDeParametros(argc,PARAMETROS_CORRECTOS))\n",
        "  {\n",
        "    std::cout<<\"No ingreso la cantidad correcta de parametros. Solo debe ingresar el valor de N\"<<std::endl;\n",
        "    return PARAMETROS_INCORRECTOS;\n",
        "  }\n",
        "  int tamanioMatrices = atoi(argv[1]);\n",
        "  if (!rangoValidoN(tamanioMatrices,RANGO_MINIMO,RANGO_MAXIMO))\n",
        "  {\n",
        "    std::cout<<\"El rango de N debe estar entre 5 y 20\"<<std::endl;\n",
        "    return N_FUERA_DE_RANGO;\n",
        "  }\n",
        "  \n",
        "  matrizHilos = llenarEstructura(tamanioMatrices);\n",
        "  llenarMatricesAleatorio();\n",
        "  multiplicarMatricesSecuencial();\n",
        "  multiplicarMatricesConHilos(matrizHilos.cantidadHilos);\n",
        "  mostrarMatrices();\n",
        "  compararMatricesResultado();\n",
        "  return EXITO;\n",
        "}\n",
        "\n",
        "bool cantidadCorrectaDeParametros(int parametrosRecibidos, int parametrosEsperados)\n",
        "{\n",
        "  return parametrosRecibidos == parametrosEsperados;\n",
        "}\n",
        "\n",
        "bool rangoValidoN(int valor, int valorMinimo, int valorMaximo)\n",
        "{\n",
        "  return valor >= valorMinimo && valor <= valorMaximo;\n",
        "}\n",
        "\n",
        "int** crearMatriz(int tamanioMatriz)\n",
        "{\n",
        "  int** matriz = new int*[tamanioMatriz];\n",
        "  for (int i = INICIO_ITERADOR; i < tamanioMatriz; i++)\n",
        "  {\n",
        "    matriz[i] = new int[tamanioMatriz];\n",
        "    for (int j = INICIO_ITERADOR; j < tamanioMatriz; j++)\n",
        "    {\n",
        "      matriz[i][j] = 0;\n",
        "    }\n",
        "  }\n",
        "  return matriz;\n",
        "}\n",
        "\n",
        "void mostrarMatriz(int **matriz,int tamanioMatriz,const char* nombre)\n",
        "{\n",
        "  std::cout<<nombre<<std::endl;\n",
        "  for (int i = INICIO_ITERADOR; i < tamanioMatriz; i++)\n",
        "  {\n",
        "    for (int j = INICIO_ITERADOR; j < tamanioMatriz; j++)\n",
        "    {\n",
        "      std::cout << std::setw(ESPACIO_CARACTERES) << matriz[i][j];\n",
        "    }\n",
        "    std::cout << std::endl;\n",
        "  }\n",
        "  std::cout << std::endl;\n",
        "}\n",
        "\n",
        "MatricesHilos llenarEstructura(int tamanio)\n",
        "{\n",
        "  MatricesHilos matrizHilo;\n",
        "  matrizHilo.matrizA = crearMatriz(tamanio);\n",
        "  matrizHilo.matrizB = crearMatriz(tamanio);\n",
        "  matrizHilo.matrizCS = crearMatriz(tamanio);\n",
        "  matrizHilo.matrizCH = crearMatriz(tamanio);    \n",
        "  matrizHilo.tamanioMatriz = matrizHilo.cantidadHilos = tamanio;\n",
        "  return matrizHilo;\n",
        "}\n",
        "\n",
        "void llenarMatricesAleatorio()\n",
        "{\n",
        "  srand(time(NULL));\n",
        "  for (int i = INICIO_ITERADOR; i < matrizHilos.tamanioMatriz; i++)\n",
        "  {\n",
        "    for (int j = INICIO_ITERADOR; j < matrizHilos.tamanioMatriz; j++)\n",
        "    {\n",
        "      matrizHilos.matrizA[i][j] = rand() % VALOR_ALEATORIO_MAXIMO - VALOR_ALEATORIO_NEGATIVO;\n",
        "      matrizHilos.matrizB[i][j] = rand() % VALOR_ALEATORIO_MAXIMO - VALOR_ALEATORIO_NEGATIVO;\n",
        "    }\n",
        "  }    \n",
        "}\n",
        "\n",
        "void multiplicarMatricesSecuencial()\n",
        "{\n",
        "  for (int i = INICIO_ITERADOR; i < matrizHilos.tamanioMatriz; i++)\n",
        "  {\n",
        "    for (int j = INICIO_ITERADOR; j < matrizHilos.tamanioMatriz; j++)\n",
        "    {\n",
        "      matrizHilos.matrizCS[i][j] = 0;\n",
        "      for (int k = INICIO_ITERADOR; k < matrizHilos.tamanioMatriz; k++)\n",
        "      {\n",
        "        matrizHilos.matrizCS[i][j] += matrizHilos.matrizA[i][k] * matrizHilos.matrizB[k][j];\n",
        "      }\n",
        "    }\n",
        "  }    \n",
        "}\n",
        "\n",
        "void multiplicarMatricesConHilos(int cantidadHilos)\n",
        "{\n",
        "  std::vector<std::thread> hilos;\n",
        "  for (int i = INICIO_ITERADOR; i < cantidadHilos; i++)\n",
        "  {\n",
        "    hilos.emplace_back(funcionEjecutadaPorHilo,i);\n",
        "  }\n",
        "  for (auto& hilo : hilos) \n",
        "  {\n",
        "    hilo.join();\n",
        "  }\n",
        "}\n",
        "\n",
        "void mostrarMatrices()\n",
        "{\n",
        "  mostrarMatriz(matrizHilos.matrizA,matrizHilos.tamanioMatriz,\"Matriz A\");\n",
        "  mostrarMatriz(matrizHilos.matrizB,matrizHilos.tamanioMatriz,\"Matriz B\");\n",
        "  mostrarMatriz(matrizHilos.matrizCS,matrizHilos.tamanioMatriz,\"Matriz CS\");\n",
        "  mostrarMatriz(matrizHilos.matrizCH,matrizHilos.tamanioMatriz,\"Matriz CH\");\n",
        "}\n",
        "\n",
        "void funcionEjecutadaPorHilo(int numeroHilo)\n",
        "{\n",
        "  for (int j = INICIO_ITERADOR; j < matrizHilos.tamanioMatriz; j++)\n",
        "  {\n",
        "    for (int k = INICIO_ITERADOR; k < matrizHilos.tamanioMatriz; k++)\n",
        "    {\n",
        "      matrizHilos.matrizCH[numeroHilo][j] += matrizHilos.matrizA[numeroHilo][k] * matrizHilos.matrizB[k][j];\n",
        "    }\n",
        "  }\n",
        "}\n",
        "\n",
        "void compararMatricesResultado()\n",
        "{\n",
        "  bool sonIguales = true;\n",
        "  for (int i = INICIO_ITERADOR; i < matrizHilos.tamanioMatriz; i++)\n",
        "  {\n",
        "    for (int j = INICIO_ITERADOR; j < matrizHilos.tamanioMatriz; j++)\n",
        "    {\n",
        "      if (matrizHilos.matrizCS[i][j] != matrizHilos.matrizCH[i][j])\n",
        "      {\n",
        "        sonIguales = false;\n",
        "        break;\n",
        "      }\n",
        "    }\n",
        "  }\n",
        "  if (sonIguales)\n",
        "    std::cout<<\"El producto matricial da lo mismo\"<<std::endl;\n",
        "  else\n",
        "    std::cout<<\"El producto matricial da distinto\"<<std::endl;\n",
        "}"
      ],
      "metadata": {
        "colab": {
          "base_uri": "https://localhost:8080/"
        },
        "id": "Rkswh3Qf7PUi",
        "outputId": "35669813-e182-4a77-d298-140edf643305"
      },
      "execution_count": null,
      "outputs": [
        {
          "output_type": "stream",
          "name": "stdout",
          "text": [
            "Overwriting tp2.cpp\n"
          ]
        }
      ]
    },
    {
      "cell_type": "markdown",
      "source": [
        "Listo los archivos para asegurarme que existe el nuevo archivo que cree (tp2.cpp)."
      ],
      "metadata": {
        "id": "MmF8N9to7VPl"
      }
    },
    {
      "cell_type": "code",
      "source": [
        "!ls -la"
      ],
      "metadata": {
        "colab": {
          "base_uri": "https://localhost:8080/"
        },
        "id": "Lt2BvCB77ZPJ",
        "outputId": "62ee965e-4580-4aaa-9e68-c476efd2be67"
      },
      "execution_count": null,
      "outputs": [
        {
          "output_type": "stream",
          "name": "stdout",
          "text": [
            "total 24\n",
            "drwxr-xr-x 1 root root 4096 Apr 15 12:40 .\n",
            "drwxr-xr-x 1 root root 4096 Apr 15 12:39 ..\n",
            "drwxr-xr-x 4 root root 4096 Apr 13 13:29 .config\n",
            "drwxr-xr-x 1 root root 4096 Apr 13 13:30 sample_data\n",
            "-rw-r--r-- 1 root root 5365 Apr 15 12:42 tp2.cpp\n"
          ]
        }
      ]
    },
    {
      "cell_type": "markdown",
      "source": [
        "Compilo el archivo tp2.cpp para obtener un ejecutable. En el codigo no utilizo la biblioteca pthread.h ni ninguna otra similar. Sin embargo, es necesario incluirla en el comando para crear el ejecutable. De lo contrario, arroja un error. \n",
        "\n",
        "Puede ver más detalles del error que arrojaría si no incluye el ptrhead en [este sitio](https://itslinuxfoss.com/undefined-reference-pthread-create/#:~:text=The%20error%20%E2%80%9Cundefined%20reference%20to,line%20while%20compiling%20the%20code.)"
      ],
      "metadata": {
        "id": "AorS85wu7hVH"
      }
    },
    {
      "cell_type": "code",
      "source": [
        "!g++ -std=c++11 -pthread -o tp2 tp2.cpp"
      ],
      "metadata": {
        "id": "8Fmg3SdH7kno"
      },
      "execution_count": null,
      "outputs": []
    },
    {
      "cell_type": "markdown",
      "source": [
        "Listo los archivos de nuevo para asegurarme que poseo el ejecutable. Debería salir como tp2 sin ninguna clase de extensión."
      ],
      "metadata": {
        "id": "mE99TAhh8anm"
      }
    },
    {
      "cell_type": "code",
      "source": [
        "!ls -la"
      ],
      "metadata": {
        "colab": {
          "base_uri": "https://localhost:8080/"
        },
        "id": "EthjUKQ08ed_",
        "outputId": "27b4294a-3b66-4e09-a375-364fc642a447"
      },
      "execution_count": null,
      "outputs": [
        {
          "output_type": "stream",
          "name": "stdout",
          "text": [
            "total 80\n",
            "drwxr-xr-x 1 root root  4096 Apr 15 12:43 .\n",
            "drwxr-xr-x 1 root root  4096 Apr 15 12:39 ..\n",
            "drwxr-xr-x 4 root root  4096 Apr 13 13:29 .config\n",
            "drwxr-xr-x 1 root root  4096 Apr 13 13:30 sample_data\n",
            "-rwxr-xr-x 1 root root 55208 Apr 15 12:43 tp2\n",
            "-rw-r--r-- 1 root root  5365 Apr 15 12:42 tp2.cpp\n"
          ]
        }
      ]
    },
    {
      "cell_type": "markdown",
      "source": [
        "Utilizo el comando nohup para ejecutar el proceso en segundo plano, de manera que no me ocupe la consola. Es necesario añadir el caracter '&' al final.\n",
        "\n",
        "Para ejecutar el proceso, tengo que poner ./tp2 N donde N es un número comprendido en el rango de 5 a 20. \n",
        "\n",
        "El comando 1>salidaC va a redirigir la salida estandar de la pantalla (stdout) a un archivo llamado salidaC. \n",
        "\n",
        "El comando 2>/dev/null envía la salida de error estandar (stderr) a dev/null"
      ],
      "metadata": {
        "id": "PKcBxmMm8jVl"
      }
    },
    {
      "cell_type": "code",
      "source": [
        "!nohup ./tp2 5 1>salidaC 2>/dev/null & "
      ],
      "metadata": {
        "id": "iRV1djaw8kzK"
      },
      "execution_count": null,
      "outputs": []
    },
    {
      "cell_type": "markdown",
      "source": [
        "Reviso el archivo de salida. Debo mostrar la matriz A, la matriz B, la matriz CS (resultado de realizar el producto matricial de forma secuencial), la matriz CH (resultado de realizar el producto matricial utilizando hilos), y por último una línea de texto que me indique si las matrices resultantes son iguales o diferentes. "
      ],
      "metadata": {
        "id": "acr5ixsk8syd"
      }
    },
    {
      "cell_type": "code",
      "source": [
        "!cat salidaC"
      ],
      "metadata": {
        "colab": {
          "base_uri": "https://localhost:8080/"
        },
        "id": "uIfO1uRb8uyk",
        "outputId": "3b926c77-daef-46c3-b8e3-964922aa459f"
      },
      "execution_count": null,
      "outputs": [
        {
          "output_type": "stream",
          "name": "stdout",
          "text": [
            "Matriz A\n",
            "    -8   -27   -21     7   -28\n",
            "    24     5     7    27   -15\n",
            "    -4   -12   -25    13    -3\n",
            "     7    15    31     1     3\n",
            "    30   -21   -26   -10     8\n",
            "\n",
            "Matriz B\n",
            "    12   -25    21     7    -9\n",
            "     5    13    18    20   -31\n",
            "   -20    17   -26    -2   -31\n",
            "    24    12    29     5     7\n",
            "    -6     5    21   -31     7\n",
            "\n",
            "Matriz CS\n",
            "   525  -564  -493   349  1413\n",
            "   911  -167   880   854  -504\n",
            "   722  -340   664   -60  1253\n",
            "  -455   574  -297   199 -1461\n",
            "   487 -1545   806  -456  1173\n",
            "\n",
            "Matriz CH\n",
            "   525  -564  -493   349  1413\n",
            "   911  -167   880   854  -504\n",
            "   722  -340   664   -60  1253\n",
            "  -455   574  -297   199 -1461\n",
            "   487 -1545   806  -456  1173\n",
            "\n",
            "El producto matricial da lo mismo\n"
          ]
        }
      ]
    },
    {
      "cell_type": "markdown",
      "source": [
        "Vuelvo a ejecutar el proceso. Esta vez pasándole 2 parámetros. Redirigiré la salida al archivo salidaExcesoParametros."
      ],
      "metadata": {
        "id": "WAZgGkfv_nVD"
      }
    },
    {
      "cell_type": "code",
      "source": [
        "!nohup ./tp2 5 2 1>salidaExcesoParametros 2>/dev/null & "
      ],
      "metadata": {
        "id": "l1xuEdWr_kgH"
      },
      "execution_count": null,
      "outputs": []
    },
    {
      "cell_type": "markdown",
      "source": [
        "Muestro el archivo salidaExcesoParametros. Debe informarme que solo debo ingresar un el valor de N como parámetro. "
      ],
      "metadata": {
        "id": "nFQJe4Eb_znp"
      }
    },
    {
      "cell_type": "code",
      "source": [
        "!cat salidaExcesoParametros"
      ],
      "metadata": {
        "colab": {
          "base_uri": "https://localhost:8080/"
        },
        "id": "xJ3x6HJe_2Bd",
        "outputId": "780772be-aa24-4ec3-b929-1c2c0336f800"
      },
      "execution_count": null,
      "outputs": [
        {
          "output_type": "stream",
          "name": "stdout",
          "text": [
            "No ingreso la cantidad correcta de parametros. Solo debe ingresar el valor de N\n"
          ]
        }
      ]
    },
    {
      "cell_type": "markdown",
      "source": [
        "Vuelvo a ejecutar el proceso. Esta vez pasándole 0 parámetros. Redirigiré la salida al archivo salidaSinParametros."
      ],
      "metadata": {
        "id": "Aq5XWCia_8Mz"
      }
    },
    {
      "cell_type": "code",
      "source": [
        "!nohup ./tp2 5 2 1>salidaSinParametros 2>/dev/null & "
      ],
      "metadata": {
        "id": "AOC49pbCACEM"
      },
      "execution_count": null,
      "outputs": []
    },
    {
      "cell_type": "markdown",
      "source": [
        "Muestro el archivo salidaSinParametros. Debe informarme que solo debo ingresar un el valor de N como parámetro. "
      ],
      "metadata": {
        "id": "b_xrZDtXAGFt"
      }
    },
    {
      "cell_type": "code",
      "source": [
        "!cat salidaSinParametros"
      ],
      "metadata": {
        "colab": {
          "base_uri": "https://localhost:8080/"
        },
        "id": "RaMjMM_VAQWh",
        "outputId": "6b4535c2-1463-4944-b6ac-9747b2473b40"
      },
      "execution_count": null,
      "outputs": [
        {
          "output_type": "stream",
          "name": "stdout",
          "text": [
            "No ingreso la cantidad correcta de parametros. Solo debe ingresar el valor de N\n"
          ]
        }
      ]
    },
    {
      "cell_type": "markdown",
      "source": [
        "Vuelvo a ejecutar el proceso. Esta vez pasándole un valor mayor a 20. Redirigiré la salida al archivo salidaRangoSuperiorExcedido."
      ],
      "metadata": {
        "id": "Iw0O7qvGAUsM"
      }
    },
    {
      "cell_type": "code",
      "source": [
        "!nohup ./tp2 25 1>salidaRangoSuperiorExcedido 2>/dev/null & "
      ],
      "metadata": {
        "id": "OkRlvzs2AZpY"
      },
      "execution_count": null,
      "outputs": []
    },
    {
      "cell_type": "markdown",
      "source": [
        "Muestro el archivo salidaRangoSuperiorExcedido. Debe informarme que debo ingresar un número entre 5 y 20 como parámetro. "
      ],
      "metadata": {
        "id": "ROQwLDa-Aeb5"
      }
    },
    {
      "cell_type": "code",
      "source": [
        "!cat salidaRangoSuperiorExcedido"
      ],
      "metadata": {
        "colab": {
          "base_uri": "https://localhost:8080/"
        },
        "id": "umsnX7AyAe2R",
        "outputId": "c421ad7d-ee0f-4b6e-951b-10a2ee1f831e"
      },
      "execution_count": null,
      "outputs": [
        {
          "output_type": "stream",
          "name": "stdout",
          "text": [
            "El rango de N debe estar entre 5 y 20\n"
          ]
        }
      ]
    },
    {
      "cell_type": "markdown",
      "source": [
        "Vuelvo a ejecutar el proceso. Esta vez pasándole un valor menor a 5. Redirigiré la salida al archivo salidaRangoInferiorExcedido."
      ],
      "metadata": {
        "id": "niN7s0rjA8ZF"
      }
    },
    {
      "cell_type": "code",
      "source": [
        "!nohup ./tp2 3 1>salidaRangoInferiorExcedido 2>/dev/null & "
      ],
      "metadata": {
        "id": "eFpGpi5kBEC6"
      },
      "execution_count": null,
      "outputs": []
    },
    {
      "cell_type": "markdown",
      "source": [
        "Muestro el archivo salidaRangoInferiorExcedido. Debe informarme que debo ingresar un número entre 5 y 20 como parámetro. "
      ],
      "metadata": {
        "id": "0ED-goC0CTnf"
      }
    },
    {
      "cell_type": "code",
      "source": [
        "!cat salidaRangoInferiorExcedido"
      ],
      "metadata": {
        "colab": {
          "base_uri": "https://localhost:8080/"
        },
        "id": "88JH4Nf8BPVc",
        "outputId": "e96e5b9b-d946-45f7-fd16-cb3e1ad8d4ca"
      },
      "execution_count": null,
      "outputs": [
        {
          "output_type": "stream",
          "name": "stdout",
          "text": [
            "El rango de N debe estar entre 5 y 20\n"
          ]
        }
      ]
    }
  ]
}