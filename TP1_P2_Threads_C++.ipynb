{
  "nbformat": 4,
  "nbformat_minor": 0,
  "metadata": {
    "colab": {
      "provenance": [],
      "authorship_tag": "ABX9TyP2RJmdtMiEn/62LJ7i91gR",
      "include_colab_link": true
    },
    "kernelspec": {
      "name": "python3",
      "display_name": "Python 3"
    },
    "language_info": {
      "name": "python"
    }
  },
  "cells": [
    {
      "cell_type": "markdown",
      "metadata": {
        "id": "view-in-github",
        "colab_type": "text"
      },
      "source": [
        "<a href=\"https://colab.research.google.com/github/AgustinCocciardi/TP1_P2_ProgConcu/blob/main/TP1_P2_Threads_C%2B%2B.ipynb\" target=\"_parent\"><img src=\"https://colab.research.google.com/assets/colab-badge.svg\" alt=\"Open In Colab\"/></a>"
      ]
    },
    {
      "cell_type": "markdown",
      "source": [
        "Utilizo el comando writefile para crear un archivo llamado tp2.cpp. Necesitaré ese archivo para crear un ejecutable."
      ],
      "metadata": {
        "id": "_0P7U1Wc7JpG"
      }
    },
    {
      "cell_type": "code",
      "source": [
        "%%writefile tp2.cpp\n",
        "#include <iostream>\n",
        "#include <string>\n",
        "#include <thread>\n",
        "#include <cstdlib>\n",
        "#include <ctime>\n",
        "#include <iomanip>\n",
        "#include <vector>\n",
        "#include <ctype.h>\n",
        "#include <cstring>\n",
        "\n",
        "#define PARAMETROS_INCORRECTOS 0\n",
        "#define N_FUERA_DE_RANGO PARAMETROS_INCORRECTOS\n",
        "#define PARAMETRO_NO_ENTERO PARAMETROS_INCORRECTOS\n",
        "#define ESPACIO_CARACTERES 6\n",
        "#define INICIO_ITERADOR 0\n",
        "#define PARAMETROS_CORRECTOS 2\n",
        "#define RANGO_MINIMO 5\n",
        "#define RANGO_MAXIMO 20\n",
        "#define VALOR_ALEATORIO_MAXIMO 65\n",
        "#define VALOR_ALEATORIO_NEGATIVO 32\n",
        "#define EXITO 1\n",
        "\n",
        "struct MatricesHilos\n",
        "{\n",
        "  int** matrizA;\n",
        "  int** matrizB;\n",
        "  int** matrizCS;\n",
        "  int** matrizCH;\n",
        "  int tamanioMatriz;\n",
        "  int cantidadHilos;\n",
        "};\n",
        "\n",
        "bool cantidadCorrectaDeParametros(int parametrosRecibidos, int parametrosEsperados);\n",
        "bool parametroNEsEntero(char* parametro);\n",
        "bool rangoValidoN(int valor, int valorMinimo, int valorMaximo);\n",
        "int** crearMatriz(int tamanioMatriz);\n",
        "void mostrarMatriz(int **matriz,int tamanioMatriz,const char* nombre);\n",
        "MatricesHilos llenarEstructura(int tamanio);\n",
        "void llenarMatricesAleatorio();\n",
        "void multiplicarMatricesSecuencial();\n",
        "void multiplicarMatricesConHilos(int cantidadHilos);\n",
        "void mostrarMatrices();\n",
        "void funcionEjecutadaPorHilo(int numeroHilo);\n",
        "void compararMatricesResultado();\n",
        "\n",
        "MatricesHilos matrizHilos;\n",
        "\n",
        "int main(int argc, char* argv[])\n",
        "{\n",
        "  if(!cantidadCorrectaDeParametros(argc,PARAMETROS_CORRECTOS))\n",
        "  {\n",
        "    std::cout<<\"No ingreso la cantidad correcta de parametros. Solamente debe ingresar un entero positivo entre 5 y 20\"<<std::endl;\n",
        "    return PARAMETROS_INCORRECTOS;\n",
        "  }\n",
        "  char* parametroN = argv[1];\n",
        "  if (!parametroNEsEntero(parametroN))\n",
        "  {\n",
        "    std::cout<<\"El parametro que usted ingreso no es un entero positivo entre 5 y 20\"<<std::endl;\n",
        "    return PARAMETRO_NO_ENTERO;\n",
        "  }\n",
        "  int tamanioMatrices = atoi(argv[1]);\n",
        "  if (!rangoValidoN(tamanioMatrices,RANGO_MINIMO,RANGO_MAXIMO))\n",
        "  {\n",
        "    std::cout<<\"El rango de N debe estar entre 5 y 20\"<<std::endl;\n",
        "    return N_FUERA_DE_RANGO;\n",
        "  }\n",
        "  \n",
        "  matrizHilos = llenarEstructura(tamanioMatrices);\n",
        "  llenarMatricesAleatorio();\n",
        "  multiplicarMatricesSecuencial();\n",
        "  multiplicarMatricesConHilos(matrizHilos.cantidadHilos);\n",
        "  mostrarMatrices();\n",
        "  compararMatricesResultado();\n",
        "  return EXITO;\n",
        "}\n",
        "\n",
        "bool cantidadCorrectaDeParametros(int parametrosRecibidos, int parametrosEsperados)\n",
        "{\n",
        "  return parametrosRecibidos == parametrosEsperados;\n",
        "}\n",
        "\n",
        "bool parametroNEsEntero(char* parametro)\n",
        "{\n",
        "  for (int i = INICIO_ITERADOR; i < strlen(parametro); i++)\n",
        "  {\n",
        "    if (!isdigit(parametro[i]))\n",
        "    {\n",
        "      return false;\n",
        "    }\n",
        "  }\n",
        "  return true;\n",
        "}\n",
        "\n",
        "bool rangoValidoN(int valor, int valorMinimo, int valorMaximo)\n",
        "{\n",
        "  return valor >= valorMinimo && valor <= valorMaximo;\n",
        "}\n",
        "\n",
        "int** crearMatriz(int tamanioMatriz)\n",
        "{\n",
        "  int** matriz = new int*[tamanioMatriz];\n",
        "  for (int i = INICIO_ITERADOR; i < tamanioMatriz; i++)\n",
        "  {\n",
        "    matriz[i] = new int[tamanioMatriz];\n",
        "    for (int j = INICIO_ITERADOR; j < tamanioMatriz; j++)\n",
        "    {\n",
        "      matriz[i][j] = 0;\n",
        "    }\n",
        "  }\n",
        "  return matriz;\n",
        "}\n",
        "\n",
        "void mostrarMatriz(int **matriz,int tamanioMatriz,const char* nombre)\n",
        "{\n",
        "  std::cout<<nombre<<std::endl;\n",
        "  for (int i = INICIO_ITERADOR; i < tamanioMatriz; i++)\n",
        "  {\n",
        "    for (int j = INICIO_ITERADOR; j < tamanioMatriz; j++)\n",
        "    {\n",
        "      std::cout << std::setw(ESPACIO_CARACTERES) << matriz[i][j];\n",
        "    }\n",
        "    std::cout << std::endl;\n",
        "  }\n",
        "  std::cout << std::endl;\n",
        "}\n",
        "\n",
        "MatricesHilos llenarEstructura(int tamanio)\n",
        "{\n",
        "  MatricesHilos matrizHilo;\n",
        "  matrizHilo.matrizA = crearMatriz(tamanio);\n",
        "  matrizHilo.matrizB = crearMatriz(tamanio);\n",
        "  matrizHilo.matrizCS = crearMatriz(tamanio);\n",
        "  matrizHilo.matrizCH = crearMatriz(tamanio);    \n",
        "  matrizHilo.tamanioMatriz = matrizHilo.cantidadHilos = tamanio;\n",
        "  return matrizHilo;\n",
        "}\n",
        "\n",
        "void llenarMatricesAleatorio()\n",
        "{\n",
        "  srand(time(NULL));\n",
        "  for (int i = INICIO_ITERADOR; i < matrizHilos.tamanioMatriz; i++)\n",
        "  {\n",
        "    for (int j = INICIO_ITERADOR; j < matrizHilos.tamanioMatriz; j++)\n",
        "    {\n",
        "      matrizHilos.matrizA[i][j] = rand() % VALOR_ALEATORIO_MAXIMO - VALOR_ALEATORIO_NEGATIVO;\n",
        "      matrizHilos.matrizB[i][j] = rand() % VALOR_ALEATORIO_MAXIMO - VALOR_ALEATORIO_NEGATIVO;\n",
        "    }\n",
        "  }    \n",
        "}\n",
        "\n",
        "void multiplicarMatricesSecuencial()\n",
        "{\n",
        "  for (int i = INICIO_ITERADOR; i < matrizHilos.tamanioMatriz; i++)\n",
        "  {\n",
        "    for (int j = INICIO_ITERADOR; j < matrizHilos.tamanioMatriz; j++)\n",
        "    {\n",
        "      matrizHilos.matrizCS[i][j] = 0;\n",
        "      for (int k = INICIO_ITERADOR; k < matrizHilos.tamanioMatriz; k++)\n",
        "      {\n",
        "        matrizHilos.matrizCS[i][j] += matrizHilos.matrizA[i][k] * matrizHilos.matrizB[k][j];\n",
        "      }\n",
        "    }\n",
        "  }    \n",
        "}\n",
        "\n",
        "void multiplicarMatricesConHilos(int cantidadHilos)\n",
        "{\n",
        "  std::vector<std::thread> hilos;\n",
        "  for (int i = INICIO_ITERADOR; i < cantidadHilos; i++)\n",
        "  {\n",
        "    hilos.emplace_back(funcionEjecutadaPorHilo,i);\n",
        "  }\n",
        "  for (auto& hilo : hilos) \n",
        "  {\n",
        "    hilo.join();\n",
        "  }\n",
        "}\n",
        "\n",
        "void mostrarMatrices()\n",
        "{\n",
        "  mostrarMatriz(matrizHilos.matrizA,matrizHilos.tamanioMatriz,\"Matriz A\");\n",
        "  mostrarMatriz(matrizHilos.matrizB,matrizHilos.tamanioMatriz,\"Matriz B\");\n",
        "  mostrarMatriz(matrizHilos.matrizCS,matrizHilos.tamanioMatriz,\"Matriz CS\");\n",
        "  mostrarMatriz(matrizHilos.matrizCH,matrizHilos.tamanioMatriz,\"Matriz CH\");\n",
        "}\n",
        "\n",
        "void funcionEjecutadaPorHilo(int numeroHilo)\n",
        "{\n",
        "  for (int j = INICIO_ITERADOR; j < matrizHilos.tamanioMatriz; j++)\n",
        "  {\n",
        "    for (int k = INICIO_ITERADOR; k < matrizHilos.tamanioMatriz; k++)\n",
        "    {\n",
        "      matrizHilos.matrizCH[numeroHilo][j] += matrizHilos.matrizA[numeroHilo][k] * matrizHilos.matrizB[k][j];\n",
        "    }\n",
        "  }\n",
        "}\n",
        "\n",
        "void compararMatricesResultado()\n",
        "{\n",
        "  bool sonIguales = true;\n",
        "  for (int i = INICIO_ITERADOR; i < matrizHilos.tamanioMatriz; i++)\n",
        "  {\n",
        "    for (int j = INICIO_ITERADOR; j < matrizHilos.tamanioMatriz; j++)\n",
        "    {\n",
        "      if (matrizHilos.matrizCS[i][j] != matrizHilos.matrizCH[i][j])\n",
        "      {\n",
        "        sonIguales = false;\n",
        "        break;\n",
        "      }\n",
        "    }\n",
        "  }\n",
        "  if (sonIguales)\n",
        "    std::cout<<\"El producto matricial coincide\"<<std::endl;\n",
        "  else\n",
        "    std::cout<<\"El producto matricial no coincide\"<<std::endl;\n",
        "}"
      ],
      "metadata": {
        "colab": {
          "base_uri": "https://localhost:8080/"
        },
        "id": "Rkswh3Qf7PUi",
        "outputId": "c9b63cb1-a38d-451c-c74b-ae47b05c3074"
      },
      "execution_count": 19,
      "outputs": [
        {
          "output_type": "stream",
          "name": "stdout",
          "text": [
            "Overwriting tp2.cpp\n"
          ]
        }
      ]
    },
    {
      "cell_type": "markdown",
      "source": [
        "Listo los archivos para asegurarme que existe el nuevo archivo que cree (tp2.cpp)."
      ],
      "metadata": {
        "id": "MmF8N9to7VPl"
      }
    },
    {
      "cell_type": "code",
      "source": [
        "!ls -la"
      ],
      "metadata": {
        "colab": {
          "base_uri": "https://localhost:8080/"
        },
        "id": "Lt2BvCB77ZPJ",
        "outputId": "4404b5f2-b5e2-4d78-fca4-e8113f5e210a"
      },
      "execution_count": 21,
      "outputs": [
        {
          "output_type": "stream",
          "name": "stdout",
          "text": [
            "total 104\n",
            "drwxr-xr-x 1 root root  4096 Apr 17 15:03 .\n",
            "drwxr-xr-x 1 root root  4096 Apr 17 14:58 ..\n",
            "drwxr-xr-x 4 root root  4096 Apr 13 13:29 .config\n",
            "-rw-r--r-- 1 root root   693 Apr 17 14:59 salidaC\n",
            "-rw-r--r-- 1 root root    90 Apr 17 14:59 salidaExcesoParametros\n",
            "-rw-r--r-- 1 root root    56 Apr 17 15:01 salidaNumeroNoEntero\n",
            "-rw-r--r-- 1 root root    38 Apr 17 14:59 salidaRangoInferiorExcedido\n",
            "-rw-r--r-- 1 root root    38 Apr 17 14:59 salidaRangoSuperiorExcedido\n",
            "-rw-r--r-- 1 root root    90 Apr 17 14:59 salidaSinParametros\n",
            "drwxr-xr-x 1 root root  4096 Apr 13 13:30 sample_data\n",
            "-rwxr-xr-x 1 root root 55304 Apr 17 15:03 tp2\n",
            "-rw-r--r-- 1 root root  5895 Apr 17 15:03 tp2.cpp\n"
          ]
        }
      ]
    },
    {
      "cell_type": "markdown",
      "source": [
        "Compilo el archivo tp2.cpp para obtener un ejecutable. En el codigo no utilizo la biblioteca pthread.h ni ninguna otra similar. Sin embargo, es necesario incluirla en el comando para crear el ejecutable. De lo contrario, arroja un error. \n",
        "\n",
        "Puede ver más detalles del error que arrojaría si no incluye el ptrhead en [este sitio](https://itslinuxfoss.com/undefined-reference-pthread-create/#:~:text=The%20error%20%E2%80%9Cundefined%20reference%20to,line%20while%20compiling%20the%20code.)"
      ],
      "metadata": {
        "id": "AorS85wu7hVH"
      }
    },
    {
      "cell_type": "code",
      "source": [
        "!g++ -std=c++11 -pthread -o tp2 tp2.cpp"
      ],
      "metadata": {
        "id": "8Fmg3SdH7kno"
      },
      "execution_count": 20,
      "outputs": []
    },
    {
      "cell_type": "markdown",
      "source": [
        "Listo los archivos de nuevo para asegurarme que poseo el ejecutable. Debería salir como tp2 sin ninguna clase de extensión."
      ],
      "metadata": {
        "id": "mE99TAhh8anm"
      }
    },
    {
      "cell_type": "code",
      "source": [
        "!ls -la"
      ],
      "metadata": {
        "colab": {
          "base_uri": "https://localhost:8080/"
        },
        "id": "EthjUKQ08ed_",
        "outputId": "0ef1a359-4ea0-447b-c156-60df964ca2ae"
      },
      "execution_count": 22,
      "outputs": [
        {
          "output_type": "stream",
          "name": "stdout",
          "text": [
            "total 104\n",
            "drwxr-xr-x 1 root root  4096 Apr 17 15:03 .\n",
            "drwxr-xr-x 1 root root  4096 Apr 17 14:58 ..\n",
            "drwxr-xr-x 4 root root  4096 Apr 13 13:29 .config\n",
            "-rw-r--r-- 1 root root   693 Apr 17 14:59 salidaC\n",
            "-rw-r--r-- 1 root root    90 Apr 17 14:59 salidaExcesoParametros\n",
            "-rw-r--r-- 1 root root    56 Apr 17 15:01 salidaNumeroNoEntero\n",
            "-rw-r--r-- 1 root root    38 Apr 17 14:59 salidaRangoInferiorExcedido\n",
            "-rw-r--r-- 1 root root    38 Apr 17 14:59 salidaRangoSuperiorExcedido\n",
            "-rw-r--r-- 1 root root    90 Apr 17 14:59 salidaSinParametros\n",
            "drwxr-xr-x 1 root root  4096 Apr 13 13:30 sample_data\n",
            "-rwxr-xr-x 1 root root 55304 Apr 17 15:03 tp2\n",
            "-rw-r--r-- 1 root root  5895 Apr 17 15:03 tp2.cpp\n"
          ]
        }
      ]
    },
    {
      "cell_type": "markdown",
      "source": [
        "Utilizo el comando nohup para ejecutar el proceso en segundo plano, de manera que no me ocupe la consola. Es necesario añadir el caracter '&' al final.\n",
        "\n",
        "Para ejecutar el proceso, tengo que poner ./tp2 N donde N es un número comprendido en el rango de 5 a 20. \n",
        "\n",
        "El comando 1>salidaC va a redirigir la salida estandar de la pantalla (stdout) a un archivo llamado salidaC. \n",
        "\n",
        "El comando 2>/dev/null envía la salida de error estandar (stderr) a dev/null"
      ],
      "metadata": {
        "id": "PKcBxmMm8jVl"
      }
    },
    {
      "cell_type": "code",
      "source": [
        "!nohup ./tp2 5 1>salidaC 2>/dev/null & "
      ],
      "metadata": {
        "id": "iRV1djaw8kzK"
      },
      "execution_count": 23,
      "outputs": []
    },
    {
      "cell_type": "markdown",
      "source": [
        "Reviso el archivo de salida. Debo mostrar la matriz A, la matriz B, la matriz CS (resultado de realizar el producto matricial de forma secuencial), la matriz CH (resultado de realizar el producto matricial utilizando hilos), y por último una línea de texto que me indique si las matrices resultantes son iguales o diferentes. "
      ],
      "metadata": {
        "id": "acr5ixsk8syd"
      }
    },
    {
      "cell_type": "code",
      "source": [
        "!cat salidaC"
      ],
      "metadata": {
        "colab": {
          "base_uri": "https://localhost:8080/"
        },
        "id": "uIfO1uRb8uyk",
        "outputId": "4645a00f-357a-443b-8043-c88569795ed9"
      },
      "execution_count": 24,
      "outputs": [
        {
          "output_type": "stream",
          "name": "stdout",
          "text": [
            "Matriz A\n",
            "    11    32   -25    14    -1\n",
            "   -24   -15    23    14    16\n",
            "    11   -29    22   -31    24\n",
            "   -20    -9   -16   -12   -19\n",
            "    25    -6   -18   -22     8\n",
            "\n",
            "Matriz B\n",
            "    -6    10   -26    14    26\n",
            "     5    24    31   -10   -12\n",
            "    30   -19     2    27    27\n",
            "     4   -20    -2    30    22\n",
            "   -11   -22   -14    29    26\n",
            "\n",
            "Matriz CS\n",
            "  -589  1095   642  -450  -491\n",
            "   639 -1669   -47  1319   901\n",
            "    61  -912 -1415   804  1170\n",
            "  -244   546   499 -1533 -1602\n",
            "  -896   712  -940  -504   -40\n",
            "\n",
            "Matriz CH\n",
            "  -589  1095   642  -450  -491\n",
            "   639 -1669   -47  1319   901\n",
            "    61  -912 -1415   804  1170\n",
            "  -244   546   499 -1533 -1602\n",
            "  -896   712  -940  -504   -40\n",
            "\n",
            "El producto matricial coincide\n"
          ]
        }
      ]
    },
    {
      "cell_type": "markdown",
      "source": [
        "Vuelvo a ejecutar el proceso. Esta vez pasándole 2 parámetros. Redirigiré la salida al archivo salidaExcesoParametros."
      ],
      "metadata": {
        "id": "WAZgGkfv_nVD"
      }
    },
    {
      "cell_type": "code",
      "source": [
        "!nohup ./tp2 5 2 1>salidaExcesoParametros 2>/dev/null & "
      ],
      "metadata": {
        "id": "l1xuEdWr_kgH"
      },
      "execution_count": 25,
      "outputs": []
    },
    {
      "cell_type": "markdown",
      "source": [
        "Muestro el archivo salidaExcesoParametros. Debe informarme que solo debo ingresar un el valor de N como parámetro. "
      ],
      "metadata": {
        "id": "nFQJe4Eb_znp"
      }
    },
    {
      "cell_type": "code",
      "source": [
        "!cat salidaExcesoParametros"
      ],
      "metadata": {
        "colab": {
          "base_uri": "https://localhost:8080/"
        },
        "id": "xJ3x6HJe_2Bd",
        "outputId": "b743afd1-2651-48a9-f4e5-59bf71b7ab33"
      },
      "execution_count": 26,
      "outputs": [
        {
          "output_type": "stream",
          "name": "stdout",
          "text": [
            "No ingreso la cantidad correcta de parametros. Solamente debe ingresar un entero positivo entre 5 y 20\n"
          ]
        }
      ]
    },
    {
      "cell_type": "markdown",
      "source": [
        "Vuelvo a ejecutar el proceso. Esta vez pasándole 0 parámetros. Redirigiré la salida al archivo salidaSinParametros."
      ],
      "metadata": {
        "id": "Aq5XWCia_8Mz"
      }
    },
    {
      "cell_type": "code",
      "source": [
        "!nohup ./tp2 5 2 1>salidaSinParametros 2>/dev/null & "
      ],
      "metadata": {
        "id": "AOC49pbCACEM"
      },
      "execution_count": 27,
      "outputs": []
    },
    {
      "cell_type": "markdown",
      "source": [
        "Muestro el archivo salidaSinParametros. Debe informarme que solo debo ingresar un el valor de N como parámetro. "
      ],
      "metadata": {
        "id": "b_xrZDtXAGFt"
      }
    },
    {
      "cell_type": "code",
      "source": [
        "!cat salidaSinParametros"
      ],
      "metadata": {
        "colab": {
          "base_uri": "https://localhost:8080/"
        },
        "id": "RaMjMM_VAQWh",
        "outputId": "486c8e2a-6972-4667-96c3-5e34043972c1"
      },
      "execution_count": 28,
      "outputs": [
        {
          "output_type": "stream",
          "name": "stdout",
          "text": [
            "No ingreso la cantidad correcta de parametros. Solamente debe ingresar un entero positivo entre 5 y 20\n"
          ]
        }
      ]
    },
    {
      "cell_type": "markdown",
      "source": [
        "Vuelvo a ejecutar el proceso. Esta vez pasándole un valor mayor a 20. Redirigiré la salida al archivo salidaRangoSuperiorExcedido."
      ],
      "metadata": {
        "id": "Iw0O7qvGAUsM"
      }
    },
    {
      "cell_type": "code",
      "source": [
        "!nohup ./tp2 25 1>salidaRangoSuperiorExcedido 2>/dev/null & "
      ],
      "metadata": {
        "id": "OkRlvzs2AZpY"
      },
      "execution_count": 29,
      "outputs": []
    },
    {
      "cell_type": "markdown",
      "source": [
        "Muestro el archivo salidaRangoSuperiorExcedido. Debe informarme que debo ingresar un número entre 5 y 20 como parámetro. "
      ],
      "metadata": {
        "id": "ROQwLDa-Aeb5"
      }
    },
    {
      "cell_type": "code",
      "source": [
        "!cat salidaRangoSuperiorExcedido"
      ],
      "metadata": {
        "colab": {
          "base_uri": "https://localhost:8080/"
        },
        "id": "umsnX7AyAe2R",
        "outputId": "5a425bfd-7518-40ad-9ee2-32803dbf721e"
      },
      "execution_count": 30,
      "outputs": [
        {
          "output_type": "stream",
          "name": "stdout",
          "text": [
            "El rango de N debe estar entre 5 y 20\n"
          ]
        }
      ]
    },
    {
      "cell_type": "markdown",
      "source": [
        "Vuelvo a ejecutar el proceso. Esta vez pasándole un valor menor a 5. Redirigiré la salida al archivo salidaRangoInferiorExcedido."
      ],
      "metadata": {
        "id": "niN7s0rjA8ZF"
      }
    },
    {
      "cell_type": "code",
      "source": [
        "!nohup ./tp2 3 1>salidaRangoInferiorExcedido 2>/dev/null & "
      ],
      "metadata": {
        "id": "eFpGpi5kBEC6"
      },
      "execution_count": 31,
      "outputs": []
    },
    {
      "cell_type": "markdown",
      "source": [
        "Muestro el archivo salidaRangoInferiorExcedido. Debe informarme que debo ingresar un número entre 5 y 20 como parámetro. "
      ],
      "metadata": {
        "id": "0ED-goC0CTnf"
      }
    },
    {
      "cell_type": "code",
      "source": [
        "!cat salidaRangoInferiorExcedido"
      ],
      "metadata": {
        "colab": {
          "base_uri": "https://localhost:8080/"
        },
        "id": "88JH4Nf8BPVc",
        "outputId": "26a80549-e5f5-4883-ac92-6475a937d3ea"
      },
      "execution_count": 32,
      "outputs": [
        {
          "output_type": "stream",
          "name": "stdout",
          "text": [
            "El rango de N debe estar entre 5 y 20\n"
          ]
        }
      ]
    },
    {
      "cell_type": "markdown",
      "source": [
        "Vuelvo a ejecutar el proceso. Esta vez pasandole un numero no entero. Redirigiré la salida al archivo salidaNumeroNoEntero."
      ],
      "metadata": {
        "id": "uHmwqEVuusu_"
      }
    },
    {
      "cell_type": "code",
      "source": [
        "!nohup ./tp2 3.1 1>salidaNumeroNoEntero 2>/dev/null & "
      ],
      "metadata": {
        "id": "uZmVoejuu0iF"
      },
      "execution_count": 33,
      "outputs": []
    },
    {
      "cell_type": "markdown",
      "source": [
        "Muestro el archivo salidaNumeroNoEntero. Debe informarme que no ingresé un número entero positivo. "
      ],
      "metadata": {
        "id": "XQ__4Nhju5Kn"
      }
    },
    {
      "cell_type": "code",
      "source": [
        "!cat salidaNumeroNoEntero"
      ],
      "metadata": {
        "colab": {
          "base_uri": "https://localhost:8080/"
        },
        "id": "rSJZrISWvAql",
        "outputId": "97fd15ca-b642-418d-ddaa-fa6638847d1f"
      },
      "execution_count": 34,
      "outputs": [
        {
          "output_type": "stream",
          "name": "stdout",
          "text": [
            "El parametro que usted ingreso no es un entero positivo entre 5 y 20\n"
          ]
        }
      ]
    }
  ]
}